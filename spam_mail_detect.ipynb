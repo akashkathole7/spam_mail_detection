{
  "nbformat": 4,
  "nbformat_minor": 0,
  "metadata": {
    "colab": {
      "name": "spam_mail_detect.ipynb",
      "provenance": []
    },
    "kernelspec": {
      "name": "python3",
      "display_name": "Python 3"
    },
    "language_info": {
      "name": "python"
    }
  },
  "cells": [
    {
      "cell_type": "code",
      "metadata": {
        "id": "Qh51-Z4MiYq1"
      },
      "source": [
        "import pandas as pd\n",
        "import numpy as np \n",
        "import seaborn as sns \n",
        "from matplotlib import pyplot as plt \n",
        "from sklearn.metrics import accuracy_score\n",
        "from sklearn.linear_model import LogisticRegression\n",
        "from sklearn.model_selection import train_test_split\n",
        "from sklearn.feature_extraction.text import TfidfVectorizer"
      ],
      "execution_count": 13,
      "outputs": []
    },
    {
      "cell_type": "code",
      "metadata": {
        "id": "-GAx8Jh2jOIg"
      },
      "source": [
        "data = pd.read_csv('/content/mail_data.csv')"
      ],
      "execution_count": 2,
      "outputs": []
    },
    {
      "cell_type": "code",
      "metadata": {
        "colab": {
          "base_uri": "https://localhost:8080/",
          "height": 206
        },
        "id": "NPdCSELskdcc",
        "outputId": "21a022ad-3792-4d28-c319-87fed14d1698"
      },
      "source": [
        "data.head()"
      ],
      "execution_count": 3,
      "outputs": [
        {
          "output_type": "execute_result",
          "data": {
            "text/html": [
              "<div>\n",
              "<style scoped>\n",
              "    .dataframe tbody tr th:only-of-type {\n",
              "        vertical-align: middle;\n",
              "    }\n",
              "\n",
              "    .dataframe tbody tr th {\n",
              "        vertical-align: top;\n",
              "    }\n",
              "\n",
              "    .dataframe thead th {\n",
              "        text-align: right;\n",
              "    }\n",
              "</style>\n",
              "<table border=\"1\" class=\"dataframe\">\n",
              "  <thead>\n",
              "    <tr style=\"text-align: right;\">\n",
              "      <th></th>\n",
              "      <th>Category</th>\n",
              "      <th>Message</th>\n",
              "    </tr>\n",
              "  </thead>\n",
              "  <tbody>\n",
              "    <tr>\n",
              "      <th>0</th>\n",
              "      <td>ham</td>\n",
              "      <td>Go until jurong point, crazy.. Available only ...</td>\n",
              "    </tr>\n",
              "    <tr>\n",
              "      <th>1</th>\n",
              "      <td>ham</td>\n",
              "      <td>Ok lar... Joking wif u oni...</td>\n",
              "    </tr>\n",
              "    <tr>\n",
              "      <th>2</th>\n",
              "      <td>spam</td>\n",
              "      <td>Free entry in 2 a wkly comp to win FA Cup fina...</td>\n",
              "    </tr>\n",
              "    <tr>\n",
              "      <th>3</th>\n",
              "      <td>ham</td>\n",
              "      <td>U dun say so early hor... U c already then say...</td>\n",
              "    </tr>\n",
              "    <tr>\n",
              "      <th>4</th>\n",
              "      <td>ham</td>\n",
              "      <td>Nah I don't think he goes to usf, he lives aro...</td>\n",
              "    </tr>\n",
              "  </tbody>\n",
              "</table>\n",
              "</div>"
            ],
            "text/plain": [
              "  Category                                            Message\n",
              "0      ham  Go until jurong point, crazy.. Available only ...\n",
              "1      ham                      Ok lar... Joking wif u oni...\n",
              "2     spam  Free entry in 2 a wkly comp to win FA Cup fina...\n",
              "3      ham  U dun say so early hor... U c already then say...\n",
              "4      ham  Nah I don't think he goes to usf, he lives aro..."
            ]
          },
          "metadata": {},
          "execution_count": 3
        }
      ]
    },
    {
      "cell_type": "code",
      "metadata": {
        "colab": {
          "base_uri": "https://localhost:8080/"
        },
        "id": "3fXyKY_GkerG",
        "outputId": "c0ac8c68-c9d9-4337-81fd-2364254bc807"
      },
      "source": [
        "data.shape"
      ],
      "execution_count": 4,
      "outputs": [
        {
          "output_type": "execute_result",
          "data": {
            "text/plain": [
              "(5572, 2)"
            ]
          },
          "metadata": {},
          "execution_count": 4
        }
      ]
    },
    {
      "cell_type": "code",
      "metadata": {
        "colab": {
          "base_uri": "https://localhost:8080/"
        },
        "id": "BFIlHJdnkf1L",
        "outputId": "5ec7ba22-2ad7-49b5-aae3-3a0bd8dd6572"
      },
      "source": [
        "data.info()"
      ],
      "execution_count": 5,
      "outputs": [
        {
          "output_type": "stream",
          "name": "stdout",
          "text": [
            "<class 'pandas.core.frame.DataFrame'>\n",
            "RangeIndex: 5572 entries, 0 to 5571\n",
            "Data columns (total 2 columns):\n",
            " #   Column    Non-Null Count  Dtype \n",
            "---  ------    --------------  ----- \n",
            " 0   Category  5572 non-null   object\n",
            " 1   Message   5572 non-null   object\n",
            "dtypes: object(2)\n",
            "memory usage: 87.2+ KB\n"
          ]
        }
      ]
    },
    {
      "cell_type": "code",
      "metadata": {
        "colab": {
          "base_uri": "https://localhost:8080/",
          "height": 112
        },
        "id": "kEjXc0cdkgq7",
        "outputId": "794e7225-58dd-4730-bf4a-a00b3dcf2b22"
      },
      "source": [
        "data.describe().T"
      ],
      "execution_count": 6,
      "outputs": [
        {
          "output_type": "execute_result",
          "data": {
            "text/html": [
              "<div>\n",
              "<style scoped>\n",
              "    .dataframe tbody tr th:only-of-type {\n",
              "        vertical-align: middle;\n",
              "    }\n",
              "\n",
              "    .dataframe tbody tr th {\n",
              "        vertical-align: top;\n",
              "    }\n",
              "\n",
              "    .dataframe thead th {\n",
              "        text-align: right;\n",
              "    }\n",
              "</style>\n",
              "<table border=\"1\" class=\"dataframe\">\n",
              "  <thead>\n",
              "    <tr style=\"text-align: right;\">\n",
              "      <th></th>\n",
              "      <th>count</th>\n",
              "      <th>unique</th>\n",
              "      <th>top</th>\n",
              "      <th>freq</th>\n",
              "    </tr>\n",
              "  </thead>\n",
              "  <tbody>\n",
              "    <tr>\n",
              "      <th>Category</th>\n",
              "      <td>5572</td>\n",
              "      <td>2</td>\n",
              "      <td>ham</td>\n",
              "      <td>4825</td>\n",
              "    </tr>\n",
              "    <tr>\n",
              "      <th>Message</th>\n",
              "      <td>5572</td>\n",
              "      <td>5157</td>\n",
              "      <td>Sorry, I'll call later</td>\n",
              "      <td>30</td>\n",
              "    </tr>\n",
              "  </tbody>\n",
              "</table>\n",
              "</div>"
            ],
            "text/plain": [
              "         count unique                     top  freq\n",
              "Category  5572      2                     ham  4825\n",
              "Message   5572   5157  Sorry, I'll call later    30"
            ]
          },
          "metadata": {},
          "execution_count": 6
        }
      ]
    },
    {
      "cell_type": "code",
      "metadata": {
        "colab": {
          "base_uri": "https://localhost:8080/"
        },
        "id": "YjicmGbkkiqW",
        "outputId": "d89f487b-d874-4bd6-ce25-c541988bb841"
      },
      "source": [
        "data.isnull().sum()"
      ],
      "execution_count": 7,
      "outputs": [
        {
          "output_type": "execute_result",
          "data": {
            "text/plain": [
              "Category    0\n",
              "Message     0\n",
              "dtype: int64"
            ]
          },
          "metadata": {},
          "execution_count": 7
        }
      ]
    },
    {
      "cell_type": "code",
      "metadata": {
        "id": "WIO4aUGrknxf"
      },
      "source": [
        "data.replace({\"Category\":{'spam':1,'ham':0}},inplace = True)"
      ],
      "execution_count": 9,
      "outputs": []
    },
    {
      "cell_type": "code",
      "metadata": {
        "colab": {
          "base_uri": "https://localhost:8080/",
          "height": 206
        },
        "id": "v1JIj8Yvk8fn",
        "outputId": "8e7d0bb6-90b2-43d3-d7fc-77a399165d0c"
      },
      "source": [
        "data.head()"
      ],
      "execution_count": 10,
      "outputs": [
        {
          "output_type": "execute_result",
          "data": {
            "text/html": [
              "<div>\n",
              "<style scoped>\n",
              "    .dataframe tbody tr th:only-of-type {\n",
              "        vertical-align: middle;\n",
              "    }\n",
              "\n",
              "    .dataframe tbody tr th {\n",
              "        vertical-align: top;\n",
              "    }\n",
              "\n",
              "    .dataframe thead th {\n",
              "        text-align: right;\n",
              "    }\n",
              "</style>\n",
              "<table border=\"1\" class=\"dataframe\">\n",
              "  <thead>\n",
              "    <tr style=\"text-align: right;\">\n",
              "      <th></th>\n",
              "      <th>Category</th>\n",
              "      <th>Message</th>\n",
              "    </tr>\n",
              "  </thead>\n",
              "  <tbody>\n",
              "    <tr>\n",
              "      <th>0</th>\n",
              "      <td>0</td>\n",
              "      <td>Go until jurong point, crazy.. Available only ...</td>\n",
              "    </tr>\n",
              "    <tr>\n",
              "      <th>1</th>\n",
              "      <td>0</td>\n",
              "      <td>Ok lar... Joking wif u oni...</td>\n",
              "    </tr>\n",
              "    <tr>\n",
              "      <th>2</th>\n",
              "      <td>1</td>\n",
              "      <td>Free entry in 2 a wkly comp to win FA Cup fina...</td>\n",
              "    </tr>\n",
              "    <tr>\n",
              "      <th>3</th>\n",
              "      <td>0</td>\n",
              "      <td>U dun say so early hor... U c already then say...</td>\n",
              "    </tr>\n",
              "    <tr>\n",
              "      <th>4</th>\n",
              "      <td>0</td>\n",
              "      <td>Nah I don't think he goes to usf, he lives aro...</td>\n",
              "    </tr>\n",
              "  </tbody>\n",
              "</table>\n",
              "</div>"
            ],
            "text/plain": [
              "   Category                                            Message\n",
              "0         0  Go until jurong point, crazy.. Available only ...\n",
              "1         0                      Ok lar... Joking wif u oni...\n",
              "2         1  Free entry in 2 a wkly comp to win FA Cup fina...\n",
              "3         0  U dun say so early hor... U c already then say...\n",
              "4         0  Nah I don't think he goes to usf, he lives aro..."
            ]
          },
          "metadata": {},
          "execution_count": 10
        }
      ]
    },
    {
      "cell_type": "code",
      "metadata": {
        "id": "wxLZquXnl2nE"
      },
      "source": [
        "X = data['Message']\n",
        "Y = data['Category']"
      ],
      "execution_count": 15,
      "outputs": []
    },
    {
      "cell_type": "code",
      "metadata": {
        "colab": {
          "base_uri": "https://localhost:8080/"
        },
        "id": "jwcDj8V1l8YW",
        "outputId": "786be020-b816-4ed6-ee4d-5b7ddd7325e9"
      },
      "source": [
        "print(X)\n",
        "print(Y)"
      ],
      "execution_count": 17,
      "outputs": [
        {
          "output_type": "stream",
          "name": "stdout",
          "text": [
            "0       Go until jurong point, crazy.. Available only ...\n",
            "1                           Ok lar... Joking wif u oni...\n",
            "2       Free entry in 2 a wkly comp to win FA Cup fina...\n",
            "3       U dun say so early hor... U c already then say...\n",
            "4       Nah I don't think he goes to usf, he lives aro...\n",
            "                              ...                        \n",
            "5567    This is the 2nd time we have tried 2 contact u...\n",
            "5568                 Will ü b going to esplanade fr home?\n",
            "5569    Pity, * was in mood for that. So...any other s...\n",
            "5570    The guy did some bitching but I acted like i'd...\n",
            "5571                           Rofl. Its true to its name\n",
            "Name: Message, Length: 5572, dtype: object\n",
            "0       0\n",
            "1       0\n",
            "2       1\n",
            "3       0\n",
            "4       0\n",
            "       ..\n",
            "5567    1\n",
            "5568    0\n",
            "5569    0\n",
            "5570    0\n",
            "5571    0\n",
            "Name: Category, Length: 5572, dtype: int64\n"
          ]
        }
      ]
    },
    {
      "cell_type": "code",
      "metadata": {
        "id": "BCEcJvCAlVux"
      },
      "source": [
        "X_train,X_test,Y_train,Y_test = train_test_split(X,Y,test_size = 0.2,random_state = 1)"
      ],
      "execution_count": 18,
      "outputs": []
    },
    {
      "cell_type": "code",
      "metadata": {
        "colab": {
          "base_uri": "https://localhost:8080/"
        },
        "id": "hj_kTRiblnzi",
        "outputId": "8563041f-f000-45a1-f972-cc35a39f406f"
      },
      "source": [
        "print(X.shape,X_train.shape,X_test.shape)"
      ],
      "execution_count": 19,
      "outputs": [
        {
          "output_type": "stream",
          "name": "stdout",
          "text": [
            "(5572,) (4457,) (1115,)\n"
          ]
        }
      ]
    },
    {
      "cell_type": "code",
      "metadata": {
        "id": "0SEpgIC_mLZM"
      },
      "source": [
        "encoder = TfidfVectorizer(min_df=1,stop_words=\"english\")"
      ],
      "execution_count": 20,
      "outputs": []
    },
    {
      "cell_type": "code",
      "metadata": {
        "id": "VvyJfbl7mfPg"
      },
      "source": [
        "train_transform = encoder.fit_transform(X_train)"
      ],
      "execution_count": 38,
      "outputs": []
    },
    {
      "cell_type": "code",
      "metadata": {
        "id": "xR7au7t9mh8t"
      },
      "source": [
        "test_transfrom = encoder.transform(X_test)"
      ],
      "execution_count": 24,
      "outputs": []
    },
    {
      "cell_type": "code",
      "metadata": {
        "colab": {
          "base_uri": "https://localhost:8080/"
        },
        "id": "sqVBzFI-mrVT",
        "outputId": "6685dc3a-0e02-43d9-e0f3-c5adc4d76599"
      },
      "source": [
        "print(train_transform)"
      ],
      "execution_count": 25,
      "outputs": [
        {
          "output_type": "stream",
          "name": "stdout",
          "text": [
            "  (0, 4346)\t0.3238008504874723\n",
            "  (0, 2353)\t0.2545072203817634\n",
            "  (0, 6695)\t0.3616065178053154\n",
            "  (0, 5895)\t0.415102954745324\n",
            "  (0, 2719)\t0.299459437576315\n",
            "  (0, 3822)\t0.37729728742748087\n",
            "  (0, 3789)\t0.4750235197588447\n",
            "  (0, 3321)\t0.2638802854739516\n",
            "  (1, 4343)\t0.6555659308129219\n",
            "  (1, 1858)\t0.5163195438969705\n",
            "  (1, 3365)\t0.5510421389942982\n",
            "  (2, 4267)\t0.531599749449541\n",
            "  (2, 6215)\t0.43979370278404856\n",
            "  (2, 6597)\t0.40097414833733686\n",
            "  (2, 5672)\t0.32606636481997364\n",
            "  (2, 3025)\t0.3502912545366897\n",
            "  (2, 3185)\t0.3663054742561573\n",
            "  (3, 4447)\t0.18080236341909536\n",
            "  (3, 3084)\t0.14346439189216004\n",
            "  (3, 2877)\t0.30030357190007717\n",
            "  (3, 5515)\t0.16439483489485024\n",
            "  (3, 6922)\t0.13381964389308706\n",
            "  (3, 7080)\t0.19700844583868773\n",
            "  (3, 5535)\t0.30030357190007717\n",
            "  (3, 7398)\t0.19877707762085306\n",
            "  :\t:\n",
            "  (4454, 397)\t0.31848634658760416\n",
            "  (4454, 4027)\t0.2561192223695296\n",
            "  (4454, 6409)\t0.2511086901671169\n",
            "  (4454, 7382)\t0.23350338191116915\n",
            "  (4454, 4578)\t0.28626353932821713\n",
            "  (4455, 6600)\t0.3164025961524856\n",
            "  (4455, 2805)\t0.3016723549044074\n",
            "  (4455, 5425)\t0.2831144456705363\n",
            "  (4455, 4948)\t0.291221082414565\n",
            "  (4455, 365)\t0.2708906633533937\n",
            "  (4455, 860)\t0.2544703850602943\n",
            "  (4455, 5684)\t0.2831144456705363\n",
            "  (4455, 3721)\t0.22464478145066644\n",
            "  (4455, 4284)\t0.18993177207181944\n",
            "  (4455, 4473)\t0.18061588089155375\n",
            "  (4455, 313)\t0.20494254942428108\n",
            "  (4455, 5821)\t0.2292888713223737\n",
            "  (4455, 260)\t0.23097890836739493\n",
            "  (4455, 2124)\t0.2386556082002209\n",
            "  (4455, 6681)\t0.1644718719525843\n",
            "  (4455, 6546)\t0.1617993994273865\n",
            "  (4455, 3759)\t0.13547655899979386\n",
            "  (4455, 5515)\t0.17320790500652877\n",
            "  (4456, 6025)\t0.6984641956538138\n",
            "  (4456, 1703)\t0.7156450009534552\n"
          ]
        }
      ]
    },
    {
      "cell_type": "code",
      "metadata": {
        "colab": {
          "base_uri": "https://localhost:8080/"
        },
        "id": "kuO5EbMymw6y",
        "outputId": "1d2467ea-e6eb-442f-feac-6f7092873c59"
      },
      "source": [
        "print(test_transfrom)"
      ],
      "execution_count": 26,
      "outputs": [
        {
          "output_type": "stream",
          "name": "stdout",
          "text": [
            "  (0, 7406)\t0.7202901083692191\n",
            "  (0, 5207)\t0.693672948719682\n",
            "  (1, 7408)\t0.39146814311442063\n",
            "  (1, 5220)\t0.4705918182872853\n",
            "  (1, 4400)\t0.5934443291757167\n",
            "  (1, 4191)\t0.3895427356578373\n",
            "  (1, 3071)\t0.3483910428713775\n",
            "  (2, 7181)\t0.7357795587192053\n",
            "  (2, 994)\t0.6772211167491541\n",
            "  (3, 3259)\t1.0\n",
            "  (4, 7336)\t0.3056500641731669\n",
            "  (4, 7100)\t0.18546351525534188\n",
            "  (4, 6030)\t0.5868928485020234\n",
            "  (4, 5925)\t0.3163109675928492\n",
            "  (4, 5196)\t0.33058431450158204\n",
            "  (4, 3951)\t0.2762463598251023\n",
            "  (4, 2854)\t0.2623110272820492\n",
            "  (4, 2093)\t0.19907660636915728\n",
            "  (4, 1604)\t0.2934464242510117\n",
            "  (4, 1067)\t0.2180322556038374\n",
            "  (5, 7120)\t0.41930198660651424\n",
            "  (5, 7095)\t0.47776118013894237\n",
            "  (5, 6602)\t0.4818760834807631\n",
            "  (5, 4743)\t0.33583035252339755\n",
            "  (5, 3101)\t0.3500213296091081\n",
            "  :\t:\n",
            "  (1111, 2886)\t0.11453235557068618\n",
            "  (1111, 2761)\t0.18749587684632552\n",
            "  (1111, 2652)\t0.4776476584652413\n",
            "  (1111, 2540)\t0.36360411501974377\n",
            "  (1111, 2067)\t0.2044709693034356\n",
            "  (1111, 1873)\t0.19469034463818594\n",
            "  (1111, 1002)\t0.1695641172846675\n",
            "  (1111, 692)\t0.22770529650512397\n",
            "  (1111, 354)\t0.23882382923262066\n",
            "  (1111, 346)\t0.22770529650512397\n",
            "  (1111, 70)\t0.23882382923262066\n",
            "  (1112, 7416)\t0.35668207768327437\n",
            "  (1112, 6940)\t0.4013881537648428\n",
            "  (1112, 6634)\t0.41288735388494413\n",
            "  (1112, 5401)\t0.34019679210398324\n",
            "  (1112, 4573)\t0.2612062549945248\n",
            "  (1112, 3662)\t0.4990767545934978\n",
            "  (1112, 3025)\t0.32886061864716865\n",
            "  (1114, 7397)\t0.3194962937300205\n",
            "  (1114, 6607)\t0.42274337683139135\n",
            "  (1114, 6194)\t0.4475220509477496\n",
            "  (1114, 4035)\t0.2502028994570357\n",
            "  (1114, 2353)\t0.2851630408099277\n",
            "  (1114, 1805)\t0.4091066884243912\n",
            "  (1114, 1641)\t0.45568238532913335\n"
          ]
        }
      ]
    },
    {
      "cell_type": "code",
      "metadata": {
        "id": "wAGingZXm0s4"
      },
      "source": [
        "model = LogisticRegression()"
      ],
      "execution_count": 27,
      "outputs": []
    },
    {
      "cell_type": "code",
      "metadata": {
        "colab": {
          "base_uri": "https://localhost:8080/"
        },
        "id": "NzRm7C3im4Fh",
        "outputId": "6cdd38f1-08a8-4750-86af-4ef463d3c06d"
      },
      "source": [
        "model.fit(train_transform,Y_train)"
      ],
      "execution_count": 28,
      "outputs": [
        {
          "output_type": "execute_result",
          "data": {
            "text/plain": [
              "LogisticRegression()"
            ]
          },
          "metadata": {},
          "execution_count": 28
        }
      ]
    },
    {
      "cell_type": "code",
      "metadata": {
        "id": "_U_LYTIxm7i4"
      },
      "source": [
        "train_predict = model.predict(train_transform)"
      ],
      "execution_count": 29,
      "outputs": []
    },
    {
      "cell_type": "code",
      "metadata": {
        "id": "1CYCDnSZnMLN"
      },
      "source": [
        "test_predict = model.predict(test_transfrom)"
      ],
      "execution_count": 33,
      "outputs": []
    },
    {
      "cell_type": "code",
      "metadata": {
        "colab": {
          "base_uri": "https://localhost:8080/"
        },
        "id": "Flk0HHsGnCDR",
        "outputId": "4c2d8db0-854c-4218-8b72-5dd55771e5b9"
      },
      "source": [
        "accuracy_score(Y_train,train_predict)"
      ],
      "execution_count": 34,
      "outputs": [
        {
          "output_type": "execute_result",
          "data": {
            "text/plain": [
              "0.9681400044873233"
            ]
          },
          "metadata": {},
          "execution_count": 34
        }
      ]
    },
    {
      "cell_type": "code",
      "metadata": {
        "colab": {
          "base_uri": "https://localhost:8080/"
        },
        "id": "xjOPDPXmnGjb",
        "outputId": "62ab9f47-38d6-41db-f946-86f49b9b7fff"
      },
      "source": [
        "accuracy_score(Y_test,test_predict)"
      ],
      "execution_count": 35,
      "outputs": [
        {
          "output_type": "execute_result",
          "data": {
            "text/plain": [
              "0.9704035874439462"
            ]
          },
          "metadata": {},
          "execution_count": 35
        }
      ]
    },
    {
      "cell_type": "code",
      "metadata": {
        "colab": {
          "base_uri": "https://localhost:8080/"
        },
        "id": "M7c6Kowjnd_b",
        "outputId": "57ba61ea-1ab9-43d0-dd4c-62d1b712d5f7"
      },
      "source": [
        "input_data = [\"As per your request 'Melle Melle (Oru Minnaminunginte Nurungu Vettam)' has been set as your callertune for all Callers. Press *9 to copy your friends Callertune\"]\n",
        "in_array_data = np.array(input_data)\n",
        "encoder_data = encoder.transform(in_array_data)\n",
        "reshape_data = encoder_data.reshape(1,-1)\n",
        "prediction = model.predict(reshape_data)\n",
        "if prediction[0]==1:\n",
        "  print('it is a spam mail')\n",
        "else:\n",
        "  print(\"it is a ham mail\")"
      ],
      "execution_count": 37,
      "outputs": [
        {
          "output_type": "stream",
          "name": "stdout",
          "text": [
            "it is a ham mail\n"
          ]
        }
      ]
    }
  ]
}